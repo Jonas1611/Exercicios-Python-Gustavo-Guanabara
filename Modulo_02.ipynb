{
  "nbformat": 4,
  "nbformat_minor": 0,
  "metadata": {
    "colab": {
      "name": "Modulo 02",
      "provenance": [],
      "toc_visible": true,
      "authorship_tag": "ABX9TyMqoqbltjshXcIt6BNVvkzd",
      "include_colab_link": true
    },
    "kernelspec": {
      "name": "python3",
      "display_name": "Python 3"
    },
    "language_info": {
      "name": "python"
    }
  },
  "cells": [
    {
      "cell_type": "markdown",
      "metadata": {
        "id": "view-in-github",
        "colab_type": "text"
      },
      "source": [
        "<a href=\"https://colab.research.google.com/github/Jonas1611/Exercicios-Python-Gustavo-Guanabara/blob/main/Modulo_02.ipynb\" target=\"_parent\"><img src=\"https://colab.research.google.com/assets/colab-badge.svg\" alt=\"Open In Colab\"/></a>"
      ]
    },
    {
      "cell_type": "code",
      "execution_count": null,
      "metadata": {
        "colab": {
          "base_uri": "https://localhost:8080/"
        },
        "id": "KlqwO5Pu6Pdy",
        "outputId": "19543bc4-650d-4a2c-d6a5-c15f98d463d5"
      },
      "outputs": [
        {
          "output_type": "stream",
          "name": "stdout",
          "text": [
            "Ainda não atingiu o preço alvo, espre. o preço atual é : 30\n",
            "Ainda não atingiu o preço alvo, espre. o preço atual é : 30.3\n",
            "Ainda não atingiu o preço alvo, espre. o preço atual é : 30.6\n",
            "Ainda não atingiu o preço alvo, espre. o preço atual é : 30.91\n",
            "Ainda não atingiu o preço alvo, espre. o preço atual é : 31.22\n",
            "Ainda não atingiu o preço alvo, espre. o preço atual é : 31.53\n",
            "Ainda não atingiu o preço alvo, espre. o preço atual é : 31.85\n",
            "Ainda não atingiu o preço alvo, espre. o preço atual é : 32.16\n",
            "Ainda não atingiu o preço alvo, espre. o preço atual é : 32.49\n",
            "Ainda não atingiu o preço alvo, espre. o preço atual é : 32.81\n",
            "Ainda não atingiu o preço alvo, espre. o preço atual é : 33.14\n",
            "Ainda não atingiu o preço alvo, espre. o preço atual é : 33.47\n",
            "Ainda não atingiu o preço alvo, espre. o preço atual é : 33.8\n",
            "Ainda não atingiu o preço alvo, espre. o preço atual é : 34.14\n",
            "Ainda não atingiu o preço alvo, espre. o preço atual é : 34.48\n",
            "Ainda não atingiu o preço alvo, espre. o preço atual é : 34.83\n",
            "Ainda não atingiu o preço alvo, espre. o preço atual é : 35.18\n",
            "Ainda não atingiu o preço alvo, espre. o preço atual é : 35.53\n",
            "Ainda não atingiu o preço alvo, espre. o preço atual é : 35.88\n",
            "Ainda não atingiu o preço alvo, espre. o preço atual é : 36.24\n",
            "Ainda não atingiu o preço alvo, espre. o preço atual é : 36.61\n",
            "Ainda não atingiu o preço alvo, espre. o preço atual é : 36.97\n",
            "Ainda não atingiu o preço alvo, espre. o preço atual é : 37.34\n",
            "Ainda não atingiu o preço alvo, espre. o preço atual é : 37.71\n",
            "Ainda não atingiu o preço alvo, espre. o preço atual é : 38.09\n",
            "Ainda não atingiu o preço alvo, espre. o preço atual é : 38.47\n",
            "Ainda não atingiu o preço alvo, espre. o preço atual é : 38.86\n",
            "Preço alvo atingigo hora de vender! preço da venda  39.25\n"
          ]
        }
      ],
      "source": [
        "preco_weg = 30\n",
        "while preco_weg < 39:\n",
        "  print(\"Ainda não atingiu o preço alvo, espre. o preço atual é :\", round(preco_weg,2))\n",
        "  preco_weg = preco_weg *1.01\n",
        "\n",
        "else:\n",
        "  print(\"Preço alvo atingigo hora de vender! preço da venda \", round(preco_weg,2))"
      ]
    },
    {
      "cell_type": "code",
      "source": [
        "# While\n",
        "\n",
        "#Imagine que tem disponível 10000  para investir.  A  cada operação sera computado o valor alocado nesta operação (chamaremos de \"investimeto_unitario\")\n",
        "#A função imput interage com o usuario, recebendo um objeto ( numérico, string...) e armazenando em uma variável.\n",
        "\n",
        "  investimento_unitario = 0\n",
        "  investimento_total = 0\n",
        "  investimento_limite = 10000"
      ],
      "metadata": {
        "id": "JMMTyLaK8UyV"
      },
      "execution_count": null,
      "outputs": []
    },
    {
      "cell_type": "code",
      "source": [
        "investimento_unitario = 0\n",
        "investimento_total = 0\n",
        "investimento_limite = 10000\n",
        "\n",
        "\n",
        "while investimento_total <= investimento_limite:\n",
        "  investimento_unitario = int(input(\"Quanto deseja investir? \"))\n",
        "  investimento_total = investimento_total + investimento_unitario\n",
        "\n",
        "else:\n",
        "  print(\"\\nO limite total para investir foi atingido\")\n",
        "  print(\"\\nVocê excedeu o investimento limite em \", investimento_total - investimento_limite)\n",
        "\n",
        "print(\"\\nVocê investiu um total de R$\", investimento_total)\n"
      ],
      "metadata": {
        "colab": {
          "base_uri": "https://localhost:8080/"
        },
        "id": "epdmgXQh9E_5",
        "outputId": "1d7742bd-a74b-4b41-a95d-dd52afc2869e"
      },
      "execution_count": null,
      "outputs": [
        {
          "output_type": "stream",
          "name": "stdout",
          "text": [
            "Quanto deseja investir? 3000\n",
            "Quanto deseja investir? 2000\n",
            "Quanto deseja investir? 5000\n",
            "Quanto deseja investir? 4000\n",
            "\n",
            "O limite total para investir foi atingido\n",
            "\n",
            "Você excedeu o investimento limite em  4000\n",
            "\n",
            "Você investiu um total de R$ 14000\n"
          ]
        }
      ]
    },
    {
      "cell_type": "markdown",
      "source": [
        "## Alguns outros operadores"
      ],
      "metadata": {
        "id": "4E63ucaxBasK"
      }
    },
    {
      "cell_type": "markdown",
      "source": [
        "### 11.1 Range"
      ],
      "metadata": {
        "id": "myoxguTABsZY"
      }
    },
    {
      "cell_type": "code",
      "source": [
        "range(0,11)\n",
        "\n",
        "list(range(0,11))\n",
        "\n",
        "for i in range(0,11,2):\n",
        "  print(i)"
      ],
      "metadata": {
        "colab": {
          "base_uri": "https://localhost:8080/"
        },
        "id": "tEp-YmCpB3yx",
        "outputId": "5747a68e-4c4a-416a-d512-f345f9442705"
      },
      "execution_count": null,
      "outputs": [
        {
          "output_type": "stream",
          "name": "stdout",
          "text": [
            "0\n",
            "2\n",
            "4\n",
            "6\n",
            "8\n",
            "10\n"
          ]
        }
      ]
    },
    {
      "cell_type": "markdown",
      "source": [
        "### 11.2 Enumerate"
      ],
      "metadata": {
        "id": "AFrpBtX3Crn6"
      }
    },
    {
      "cell_type": "code",
      "source": [
        "lista_ativos = ['PETR4.SA', 'WEGE3.SA', 'MGLU3', 'LREN3.SA', 'RENT3.SA', 'VALE3.SA']"
      ],
      "metadata": {
        "id": "EnFRD-C2CvKW"
      },
      "execution_count": null,
      "outputs": []
    },
    {
      "cell_type": "code",
      "source": [
        "list(enumerate(lista_ativos))"
      ],
      "metadata": {
        "colab": {
          "base_uri": "https://localhost:8080/"
        },
        "id": "2AiOrrxcDTOL",
        "outputId": "858c3a8a-24f8-406f-8104-4f4bdc27ab1c"
      },
      "execution_count": null,
      "outputs": [
        {
          "output_type": "execute_result",
          "data": {
            "text/plain": [
              "[(0, 'PETR4.SA'),\n",
              " (1, 'WEGE3.SA'),\n",
              " (2, 'MGLU3'),\n",
              " (3, 'LREN3.SA'),\n",
              " (4, 'RENT3.SA'),\n",
              " (5, 'VALE3.SA')]"
            ]
          },
          "metadata": {},
          "execution_count": 58
        }
      ]
    },
    {
      "cell_type": "code",
      "source": [
        "acao = \"PETR4\"\n",
        "\n",
        "for i, j in enumerate(acao):\n",
        "    print(\"No índice\", i , \"o caracter é\", j)"
      ],
      "metadata": {
        "colab": {
          "base_uri": "https://localhost:8080/"
        },
        "id": "CarEFPNnEHij",
        "outputId": "86638f94-5771-44dc-e5b3-a8c9db946c72"
      },
      "execution_count": null,
      "outputs": [
        {
          "output_type": "stream",
          "name": "stdout",
          "text": [
            "No índice 0 o caracter é P\n",
            "No índice 1 o caracter é E\n",
            "No índice 2 o caracter é T\n",
            "No índice 3 o caracter é R\n",
            "No índice 4 o caracter é 4\n"
          ]
        }
      ]
    },
    {
      "cell_type": "code",
      "source": [
        "index_count = 0 \n",
        "\n",
        "for letra in acao:\n",
        "  print(\"No índice\", index_count, \"o caractere é\", letra)\n",
        "  index_count += 1"
      ],
      "metadata": {
        "colab": {
          "base_uri": "https://localhost:8080/"
        },
        "id": "7CsGOHlDEyID",
        "outputId": "87881242-60d4-4124-e1b3-589135e0d21f"
      },
      "execution_count": null,
      "outputs": [
        {
          "output_type": "stream",
          "name": "stdout",
          "text": [
            "No índice 0 o caractere é P\n",
            "No índice 1 o caractere é E\n",
            "No índice 2 o caractere é T\n",
            "No índice 3 o caractere é R\n",
            "No índice 4 o caractere é 4\n"
          ]
        }
      ]
    },
    {
      "cell_type": "code",
      "source": [
        "acoes = ['PETR4.SA', 'WEGE3.SA', 'MGLU3', 'LREN3.SA', 'RENT3.SA', 'VALE3.SA']\n",
        "\n",
        "setores = ['Petroleo', 'Motores', 'Varejo', 'Construção', 'Metalurgia']\n",
        "\n",
        "list(zip(acoes,setores))"
      ],
      "metadata": {
        "colab": {
          "base_uri": "https://localhost:8080/"
        },
        "id": "2n006prjGIx7",
        "outputId": "02c47807-cd73-4bfa-c5da-f0cdc9030ae9"
      },
      "execution_count": null,
      "outputs": [
        {
          "output_type": "execute_result",
          "data": {
            "text/plain": [
              "[('PETR4.SA', 'Petroleo'),\n",
              " ('WEGE3.SA', 'Motores'),\n",
              " ('MGLU3', 'Varejo'),\n",
              " ('LREN3.SA', 'Construção'),\n",
              " ('RENT3.SA', 'Metalurgia')]"
            ]
          },
          "metadata": {},
          "execution_count": 69
        }
      ]
    },
    {
      "cell_type": "code",
      "source": [
        "\n",
        "for acao, setor in list(zip(acoes,setores)):\n",
        "  print('O papel', acao, 'pertence ao setor', setor)"
      ],
      "metadata": {
        "colab": {
          "base_uri": "https://localhost:8080/"
        },
        "id": "L3wvClBsGjpO",
        "outputId": "b86d04b1-1c5e-45cd-fcd7-92f8ee62329e"
      },
      "execution_count": null,
      "outputs": [
        {
          "output_type": "stream",
          "name": "stdout",
          "text": [
            "O papel PETR4.SA pertence ao setor Petroleo\n",
            "O papel WEGE3.SA pertence ao setor Motores\n",
            "O papel MGLU3 pertence ao setor Varejo\n",
            "O papel LREN3.SA pertence ao setor Construção\n",
            "O papel RENT3.SA pertence ao setor Metalurgia\n"
          ]
        }
      ]
    },
    {
      "cell_type": "code",
      "source": [
        "papel = 'PETR3'\n",
        "setor = 'petroleo'\n",
        "f'A {papel} está no setor de {setor}'"
      ],
      "metadata": {
        "colab": {
          "base_uri": "https://localhost:8080/",
          "height": 35
        },
        "id": "_OWhTRNlH3md",
        "outputId": "0733c532-8560-4911-a97f-0c863175545a"
      },
      "execution_count": null,
      "outputs": [
        {
          "output_type": "execute_result",
          "data": {
            "text/plain": [
              "'A PETR3 está no setor de petroleo'"
            ],
            "application/vnd.google.colaboratory.intrinsic+json": {
              "type": "string"
            }
          },
          "metadata": {},
          "execution_count": 77
        }
      ]
    },
    {
      "cell_type": "code",
      "source": [
        "for acao, setor in list(zip(acoes,setores)):\n",
        "  print(f'O papel {acao} pertence ao setor {setor}')"
      ],
      "metadata": {
        "colab": {
          "base_uri": "https://localhost:8080/"
        },
        "id": "cy0061P_IeVM",
        "outputId": "657e247f-bfcd-4bb3-ea99-fb3b4ec4e8af"
      },
      "execution_count": null,
      "outputs": [
        {
          "output_type": "stream",
          "name": "stdout",
          "text": [
            "O papel PETR4.SA pertence ao setor Petroleo\n",
            "O papel WEGE3.SA pertence ao setor Motores\n",
            "O papel MGLU3 pertence ao setor Varejo\n",
            "O papel LREN3.SA pertence ao setor Construção\n",
            "O papel RENT3.SA pertence ao setor Metalurgia\n"
          ]
        }
      ]
    },
    {
      "cell_type": "code",
      "source": [
        "'VIVR3' in acoes"
      ],
      "metadata": {
        "colab": {
          "base_uri": "https://localhost:8080/"
        },
        "id": "WPGl_W05Ix_i",
        "outputId": "f1422e6b-19e7-42d7-e40d-2caf68ffdc9b"
      },
      "execution_count": null,
      "outputs": [
        {
          "output_type": "execute_result",
          "data": {
            "text/plain": [
              "False"
            ]
          },
          "metadata": {},
          "execution_count": 79
        }
      ]
    },
    {
      "cell_type": "code",
      "source": [
        "\"RENT3.SA\" in acoes"
      ],
      "metadata": {
        "colab": {
          "base_uri": "https://localhost:8080/"
        },
        "id": "opOXkHCHI3CM",
        "outputId": "bb467919-61e0-4028-e24d-0b97d46f4dcc"
      },
      "execution_count": null,
      "outputs": [
        {
          "output_type": "execute_result",
          "data": {
            "text/plain": [
              "True"
            ]
          },
          "metadata": {},
          "execution_count": 81
        }
      ]
    },
    {
      "cell_type": "code",
      "source": [
        ""
      ],
      "metadata": {
        "id": "FCGww1_i9BHq"
      },
      "execution_count": null,
      "outputs": []
    },
    {
      "cell_type": "markdown",
      "source": [
        "## Aula 04"
      ],
      "metadata": {
        "id": "mxWOVjfi8_Lr"
      }
    },
    {
      "cell_type": "code",
      "source": [
        "from random import randint, shuffle"
      ],
      "metadata": {
        "id": "CtuLjXbn6woX"
      },
      "execution_count": null,
      "outputs": []
    },
    {
      "cell_type": "code",
      "source": [
        "randint(0,100)"
      ],
      "metadata": {
        "colab": {
          "base_uri": "https://localhost:8080/"
        },
        "id": "yp3K8REC66_R",
        "outputId": "dfe7ad47-834e-4b49-a32c-b5c549c2a32d"
      },
      "execution_count": null,
      "outputs": [
        {
          "output_type": "execute_result",
          "data": {
            "text/plain": [
              "64"
            ]
          },
          "metadata": {},
          "execution_count": 2
        }
      ]
    },
    {
      "cell_type": "code",
      "source": [
        "list_rand = []\n",
        "\n",
        "for i in range(0,10):\n",
        "  list_rand.append(randint(0,100))"
      ],
      "metadata": {
        "id": "YFA7Wj727BHh"
      },
      "execution_count": null,
      "outputs": []
    },
    {
      "cell_type": "code",
      "source": [
        "list_rand"
      ],
      "metadata": {
        "colab": {
          "base_uri": "https://localhost:8080/"
        },
        "id": "Z70DHdl37ezS",
        "outputId": "f015f1a5-8684-4cb9-a7a0-ba25e96e586e"
      },
      "execution_count": null,
      "outputs": [
        {
          "output_type": "execute_result",
          "data": {
            "text/plain": [
              "[11, 100, 33, 51, 87, 76, 17, 81, 95, 48]"
            ]
          },
          "metadata": {},
          "execution_count": 5
        }
      ]
    },
    {
      "cell_type": "code",
      "source": [
        "list_rand.reverse()\n",
        "\n"
      ],
      "metadata": {
        "id": "kLwIgQqV7rqY"
      },
      "execution_count": null,
      "outputs": []
    },
    {
      "cell_type": "code",
      "source": [
        "list_rand.sort()"
      ],
      "metadata": {
        "id": "5iXYfJQ378YZ"
      },
      "execution_count": null,
      "outputs": []
    },
    {
      "cell_type": "code",
      "source": [
        "list_rand"
      ],
      "metadata": {
        "colab": {
          "base_uri": "https://localhost:8080/"
        },
        "id": "avDKc0Ii8Kns",
        "outputId": "d242cb49-8dd5-4f7f-87ba-40e2cfd04745"
      },
      "execution_count": null,
      "outputs": [
        {
          "output_type": "execute_result",
          "data": {
            "text/plain": [
              "[11, 17, 33, 48, 51, 76, 81, 87, 95, 100]"
            ]
          },
          "metadata": {},
          "execution_count": 15
        }
      ]
    },
    {
      "cell_type": "code",
      "source": [
        "list_rand.reverse()"
      ],
      "metadata": {
        "id": "dQwhliGD8Ojy"
      },
      "execution_count": null,
      "outputs": []
    },
    {
      "cell_type": "code",
      "source": [
        "list_rand"
      ],
      "metadata": {
        "colab": {
          "base_uri": "https://localhost:8080/"
        },
        "id": "BeP5JGUe8TuN",
        "outputId": "5ee0c842-3dac-4a3f-a8ea-5a3d5b6e1769"
      },
      "execution_count": null,
      "outputs": [
        {
          "output_type": "execute_result",
          "data": {
            "text/plain": [
              "[100, 95, 87, 81, 76, 51, 48, 33, 17, 11]"
            ]
          },
          "metadata": {},
          "execution_count": 17
        }
      ]
    },
    {
      "cell_type": "code",
      "source": [
        "shuffle(list_rand)"
      ],
      "metadata": {
        "id": "osOxMCKa8XWq"
      },
      "execution_count": null,
      "outputs": []
    },
    {
      "cell_type": "code",
      "source": [
        "list_rand"
      ],
      "metadata": {
        "colab": {
          "base_uri": "https://localhost:8080/"
        },
        "id": "JhwW7qeE8fZC",
        "outputId": "15c8e2dc-90a4-4041-e7e3-8cb5e5ef09ce"
      },
      "execution_count": null,
      "outputs": [
        {
          "output_type": "execute_result",
          "data": {
            "text/plain": [
              "[87, 81, 17, 76, 33, 100, 95, 48, 51, 11]"
            ]
          },
          "metadata": {},
          "execution_count": 20
        }
      ]
    },
    {
      "cell_type": "code",
      "source": [
        "min(list_rand)"
      ],
      "metadata": {
        "colab": {
          "base_uri": "https://localhost:8080/"
        },
        "id": "s347aBFQ8sgK",
        "outputId": "9d3fd121-59c2-4516-c603-b0bc7ffd1a4d"
      },
      "execution_count": null,
      "outputs": [
        {
          "output_type": "execute_result",
          "data": {
            "text/plain": [
              "11"
            ]
          },
          "metadata": {},
          "execution_count": 21
        }
      ]
    },
    {
      "cell_type": "code",
      "source": [
        "max(list_rand)"
      ],
      "metadata": {
        "colab": {
          "base_uri": "https://localhost:8080/"
        },
        "id": "ZLrRqkHX8vVi",
        "outputId": "4a073e01-5e31-43cf-d4e9-27e40ce0ed03"
      },
      "execution_count": null,
      "outputs": [
        {
          "output_type": "execute_result",
          "data": {
            "text/plain": [
              "100"
            ]
          },
          "metadata": {},
          "execution_count": 22
        }
      ]
    },
    {
      "cell_type": "code",
      "source": [
        ""
      ],
      "metadata": {
        "id": "IchAdAQx81EU"
      },
      "execution_count": null,
      "outputs": []
    },
    {
      "cell_type": "markdown",
      "source": [
        "## 12 List Comprehension"
      ],
      "metadata": {
        "id": "eQlwHwgd9kxW"
      }
    },
    {
      "cell_type": "code",
      "source": [
        "acao = 'MGLU3'"
      ],
      "metadata": {
        "id": "Zima9yhE9uc1"
      },
      "execution_count": null,
      "outputs": []
    },
    {
      "cell_type": "code",
      "source": [
        "lista_caracteres = []\n",
        "\n",
        "for caractere in acao:\n",
        "  lista_caracteres.append(caractere)\n",
        "\n",
        "lista_caracteres*2"
      ],
      "metadata": {
        "colab": {
          "base_uri": "https://localhost:8080/"
        },
        "id": "CND0-CLW98cF",
        "outputId": "24f9111f-fa5b-4ae6-e635-b3f7df78bf53"
      },
      "execution_count": null,
      "outputs": [
        {
          "output_type": "execute_result",
          "data": {
            "text/plain": [
              "['M', 'G', 'L', 'U', '3', 'M', 'G', 'L', 'U', '3']"
            ]
          },
          "metadata": {},
          "execution_count": 30
        }
      ]
    },
    {
      "cell_type": "code",
      "source": [
        "ativos = ['MGLU' , 'VALE' , 'WEGE' , 'LREN']\n",
        "\n"
      ],
      "metadata": {
        "id": "tSPZrMmS_XIS"
      },
      "execution_count": null,
      "outputs": []
    },
    {
      "cell_type": "code",
      "source": [
        "novos_ativos = []\n",
        "\n",
        "for ativo in ativos:\n",
        "  novos_ativos.append(ativo + '3')"
      ],
      "metadata": {
        "id": "uWaDb01eAl4K"
      },
      "execution_count": null,
      "outputs": []
    },
    {
      "cell_type": "code",
      "source": [
        "novos_ativos"
      ],
      "metadata": {
        "colab": {
          "base_uri": "https://localhost:8080/"
        },
        "id": "JaIU8h50A0L-",
        "outputId": "befffe07-a5e4-40b3-b1ba-2ded15f175fe"
      },
      "execution_count": null,
      "outputs": [
        {
          "output_type": "execute_result",
          "data": {
            "text/plain": [
              "['MGLU3', 'VALE3', 'WEGE3', 'LREN3']"
            ]
          },
          "metadata": {},
          "execution_count": 37
        }
      ]
    },
    {
      "cell_type": "code",
      "source": [
        "[ativo + '3' for ativo in ativos] "
      ],
      "metadata": {
        "colab": {
          "base_uri": "https://localhost:8080/"
        },
        "id": "ZomB2csIA4HB",
        "outputId": "b1b46464-1df2-4fab-dc2b-356389765cbb"
      },
      "execution_count": null,
      "outputs": [
        {
          "output_type": "execute_result",
          "data": {
            "text/plain": [
              "['MGLU3', 'VALE3', 'WEGE3', 'LREN3']"
            ]
          },
          "metadata": {},
          "execution_count": 44
        }
      ]
    },
    {
      "cell_type": "code",
      "source": [
        "range(1,11)\n",
        "\n",
        "list(range(0,11))"
      ],
      "metadata": {
        "colab": {
          "base_uri": "https://localhost:8080/"
        },
        "id": "h4OqUeK_CTni",
        "outputId": "b109d54b-ce15-4b67-8890-1e9f81da101e"
      },
      "execution_count": null,
      "outputs": [
        {
          "output_type": "execute_result",
          "data": {
            "text/plain": [
              "[0, 1, 2, 3, 4, 5, 6, 7, 8, 9, 10]"
            ]
          },
          "metadata": {},
          "execution_count": 65
        }
      ]
    },
    {
      "cell_type": "code",
      "source": [
        "[num**2 for num in range(0,11)]"
      ],
      "metadata": {
        "colab": {
          "base_uri": "https://localhost:8080/"
        },
        "id": "wxj_qwO-ET7E",
        "outputId": "b37258ad-35a5-4d4d-a7be-588ff4c1a243"
      },
      "execution_count": null,
      "outputs": [
        {
          "output_type": "execute_result",
          "data": {
            "text/plain": [
              "[0, 1, 4, 9, 16, 25, 36, 49, 64, 81, 100]"
            ]
          },
          "metadata": {},
          "execution_count": 69
        }
      ]
    },
    {
      "cell_type": "markdown",
      "source": [
        "**13. Funções e métodos**\n"
      ],
      "metadata": {
        "id": "RXNmEpG_E9fQ"
      }
    },
    {
      "cell_type": "code",
      "source": [
        "def tempo_hoje():\n",
        "  print('Hoje faz sol')"
      ],
      "metadata": {
        "id": "GVmFzDRVFEJk"
      },
      "execution_count": null,
      "outputs": []
    },
    {
      "cell_type": "code",
      "source": [
        "tempo_hoje()"
      ],
      "metadata": {
        "colab": {
          "base_uri": "https://localhost:8080/"
        },
        "id": "yit_aVk9FPXC",
        "outputId": "fa43bb14-73b4-4e9f-97c5-714ec520608c"
      },
      "execution_count": null,
      "outputs": [
        {
          "output_type": "stream",
          "name": "stdout",
          "text": [
            "Hoje faz sol\n"
          ]
        }
      ]
    },
    {
      "cell_type": "code",
      "source": [
        "def soma_numero(num1, num2):\n",
        "  soma = num1 + num2\n",
        "  return soma"
      ],
      "metadata": {
        "id": "G_6uW7KPFx5B"
      },
      "execution_count": null,
      "outputs": []
    },
    {
      "cell_type": "code",
      "source": [
        "novo_objeto = soma_numero(2,3)"
      ],
      "metadata": {
        "id": "qtF4iFkEF-Nt"
      },
      "execution_count": null,
      "outputs": []
    },
    {
      "cell_type": "code",
      "source": [
        "novo_objeto"
      ],
      "metadata": {
        "colab": {
          "base_uri": "https://localhost:8080/"
        },
        "id": "CUYI9FfdGMzM",
        "outputId": "d46270c7-2490-4cf3-d97b-cea0df1b13f0"
      },
      "execution_count": null,
      "outputs": [
        {
          "output_type": "execute_result",
          "data": {
            "text/plain": [
              "5"
            ]
          },
          "metadata": {},
          "execution_count": 76
        }
      ]
    },
    {
      "cell_type": "code",
      "source": [
        ""
      ],
      "metadata": {
        "id": "ac7uYFSTGUQa"
      },
      "execution_count": null,
      "outputs": []
    }
  ]
}